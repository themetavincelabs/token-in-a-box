{
 "cells": [
  {
   "cell_type": "markdown",
   "metadata": {},
   "source": [
    "<h1>Import Libaries<h1>"
   ]
  },
  {
   "cell_type": "code",
   "execution_count": 1,
   "metadata": {},
   "outputs": [],
   "source": [
    "###IMPORT LIBRARIES###\n",
    "import matplotlib.pyplot as plt\n",
    "import numpy as np"
   ]
  },
  {
   "cell_type": "markdown",
   "metadata": {},
   "source": [
    "<h1>Starter Questions<h1>"
   ]
  },
  {
   "cell_type": "markdown",
   "metadata": {},
   "source": [
    "<h3>FD Tokens<h3>"
   ]
  },
  {
   "cell_type": "code",
   "execution_count": 2,
   "metadata": {},
   "outputs": [
    {
     "name": "stdout",
     "output_type": "stream",
     "text": [
      "How many fully diluted tokens? 1000\n",
      "1000\n"
     ]
    }
   ],
   "source": [
    "###STARTER QUESTIONS###\n",
    "fd_tokens = int(input(\"How many fully diluted tokens? \"))\n",
    "print(fd_tokens)"
   ]
  },
  {
   "cell_type": "markdown",
   "metadata": {},
   "source": [
    "<h3>Basic Tokenomics Composition (Enter the Number as whole numbers 50% = \"50\" not \"0.50\")<h3>"
   ]
  },
  {
   "cell_type": "code",
   "execution_count": 3,
   "metadata": {},
   "outputs": [
    {
     "name": "stdout",
     "output_type": "stream",
     "text": [
      "Enter the (%) you want to airdrop, if none, enter 015\n",
      "Enter the (%) allocated for the team, if none, enter 015\n",
      "Enter the (%) allocated for launch contributors, if none, enter 07\n",
      "Enter the (%) allocated to investors, if none, enter 01\n"
     ]
    }
   ],
   "source": [
    "#define variable to operate on\n",
    "composition = 0\n",
    "\n",
    "#user inputs to operate on (airdrop, team, contributors, investors)\n",
    "airdrop = float(input(\"Enter the (%) you want to airdrop, if none, enter 0\"))\n",
    "airdrop = airdrop / 100\n",
    "\n",
    "team = float(input(\"Enter the (%) allocated for the team, if none, enter 0\"))\n",
    "team = team / 100\n",
    "\n",
    "contributors = float(input(\"Enter the (%) allocated for launch contributors, if none, enter 0\"))\n",
    "contributors = contributors / 100\n",
    "\n",
    "investors = float(input(\"Enter the (%) allocated to investors, if none, enter 0\"))\n",
    "investors = investors / 100\n",
    "\n",
    "composition_no_eco = airdrop + team + contributors + investors\n",
    "ecosystem = (1-composition_no_eco)\n",
    "\n",
    "#FD token amounts\n",
    "airdrop_tokens = fd_tokens * airdrop\n",
    "team_tokens = fd_tokens * team\n",
    "contributors_tokens = fd_tokens * contributors\n",
    "investors_tokens = fd_tokens * investors\n",
    "ecosystem_tokens = fd_tokens * ecosystem"
   ]
  },
  {
   "cell_type": "markdown",
   "metadata": {},
   "source": [
    "<h3>Here are Your User Outputs<h3>"
   ]
  },
  {
   "cell_type": "code",
   "execution_count": 4,
   "metadata": {},
   "outputs": [
    {
     "name": "stdout",
     "output_type": "stream",
     "text": [
      "You allocated 0.62% to the ecosystem, 0.15 % to the airdrop, 0.15% to the team, 0.07% to contributors and 0.01% to investors.\n",
      "This results in 620.0 tokens to the ecosystem, 150.0 to the team, 70.0 to contributors and 10.0 to investors.\n"
     ]
    }
   ],
   "source": [
    "#user outputs\n",
    "print(f\"You allocated {ecosystem}% to the ecosystem, {airdrop} % to the airdrop, {team}% to the team, {contributors}% to contributors and {investors}% to investors.\")\n",
    "print(f\"This results in {ecosystem_tokens} tokens to the ecosystem, {team_tokens} to the team, {contributors_tokens} to contributors and {investors_tokens} to investors.\")"
   ]
  },
  {
   "cell_type": "markdown",
   "metadata": {},
   "source": [
    "<h1>Day 1 Token Allocation Calculatiions<h1>"
   ]
  },
  {
   "cell_type": "markdown",
   "metadata": {},
   "source": [
    "<h3>Day 1 Unlock Percentages<h3>"
   ]
  },
  {
   "cell_type": "code",
   "execution_count": 5,
   "metadata": {},
   "outputs": [
    {
     "name": "stdout",
     "output_type": "stream",
     "text": [
      "Enter the (%) unlocked on day 1 for the airdrop, if none, enter 0100\n",
      "Enter the (%) unlocked on day 1 for the team, if none, enter 012\n",
      "Enter the (%) unlocked on day 1 for the contributors, if none, enter 025\n",
      "Enter the (%) unlocked on day 1 for the investors, if none, enter 01\n",
      "Enter the (%) unlocked on day 1 for the ecosystem, if none, enter 010\n"
     ]
    }
   ],
   "source": [
    "###DAY 1 TOKEN CALCULATIONS###\n",
    "#day 1 unlock (%)\n",
    "airdrop_day1_unlock_p = float(input(\"Enter the (%) unlocked on day 1 for the airdrop, if none, enter 0\"))\n",
    "airdrop_day1_unlock_p = airdrop_day1_unlock_p / 100\n",
    "team_day1_unlock_p = float(input(\"Enter the (%) unlocked on day 1 for the team, if none, enter 0\"))\n",
    "team_day1_unlock_p = team_day1_unlock_p / 100\n",
    "contributors_day1_unlock_p = float(input(\"Enter the (%) unlocked on day 1 for the contributors, if none, enter 0\"))\n",
    "contributors_day1_unlock_p = contributors_day1_unlock_p / 100\n",
    "investors_day1_unlock_p = float(input(\"Enter the (%) unlocked on day 1 for the investors, if none, enter 0\"))\n",
    "investors_day1_unlock_p = investors_day1_unlock_p / 100\n",
    "ecosystem_day1_unlock_p = float(input(\"Enter the (%) unlocked on day 1 for the ecosystem, if none, enter 0\"))\n",
    "ecosystem_day1_unlock_p = ecosystem_day1_unlock_p / 100"
   ]
  },
  {
   "cell_type": "markdown",
   "metadata": {},
   "source": [
    "<h3>Day 1 Unlock Token Amounts<h3>"
   ]
  },
  {
   "cell_type": "code",
   "execution_count": 6,
   "metadata": {},
   "outputs": [],
   "source": [
    "#day 1 token unlocks\n",
    "airdrop_day1_unlock_t = airdrop_day1_unlock_p * airdrop_tokens\n",
    "team_day1_unlock_t = team_day1_unlock_p * team_tokens\n",
    "contributors_day1_unlock_t = contributors_day1_unlock_p * contributors_tokens\n",
    "investors_day1_unlock_t = investors_day1_unlock_p * investors_tokens\n",
    "ecosystem_day1_unlock_t = ecosystem_day1_unlock_p * ecosystem_tokens"
   ]
  },
  {
   "cell_type": "markdown",
   "metadata": {},
   "source": [
    "<h3>Intermediate Calculation for \"Vestable Tokens\"<h3>"
   ]
  },
  {
   "cell_type": "code",
   "execution_count": 7,
   "metadata": {},
   "outputs": [],
   "source": [
    "###intermediate calc for \"vestable tokens\"###\n",
    "airdrop_vt = airdrop_tokens - airdrop_day1_unlock_t\n",
    "team_vt = team_tokens - team_day1_unlock_t\n",
    "contributors_vt = contributors_tokens - contributors_day1_unlock_t\n",
    "investors_vt = investors_tokens - investors_day1_unlock_t\n",
    "ecosystem_vt = ecosystem_tokens - ecosystem_day1_unlock_t"
   ]
  },
  {
   "cell_type": "markdown",
   "metadata": {},
   "source": [
    "<h3>Pie Chart Outputs<h3>"
   ]
  },
  {
   "cell_type": "code",
   "execution_count": 12,
   "metadata": {},
   "outputs": [],
   "source": [
    "###PIE CHART OUTPUTS###\n",
    "#Day 1 pie chart info into an array\n",
    "day1_pie_chart = [airdrop_day1_unlock_p,team_day1_unlock_p,contributors_day1_unlock_p,investors_day1_unlock_p,ecosystem_day1_unlock_p]\n",
    "#put FD pie chart info into an array\n",
    "fd_pie_chart = [airdrop, team, contributors, investors, ecosystem]"
   ]
  },
  {
   "cell_type": "code",
   "execution_count": 13,
   "metadata": {},
   "outputs": [
    {
     "data": {
      "image/png": "[encoded data removed]",
      "text/plain": [
       "<Figure size 432x288 with 1 Axes>"
      ]
     },
     "metadata": {},
     "output_type": "display_data"
    },
    {
     "data": {
      "image/png": "[encoded data removed]",
      "text/plain": [
       "<Figure size 432x288 with 1 Axes>"
      ]
     },
     "metadata": {},
     "output_type": "display_data"
    }
   ],
   "source": [
    "#Day 1 Token Composition Output\n",
    "plt.title('Day 1 Token Composition')\n",
    "day1_pie_labels = [\"Airdrop\", \"Team\", \"Contributors\", \"Investors\", \"Ecosystem\"]\n",
    "plt.pie(day1_pie_chart, labels = day1_pie_labels, autopct='%1.1f%%')\n",
    "#plt.legend()\n",
    "plt.show()\n",
    "\n",
    "\n",
    "#Fully Diluted Token Composition Output\n",
    "plt.title('Fully Diluted Token Composition')\n",
    "fd_pie_labels = [\"Airdrop\", \"Team\", \"Contributors\", \"Investors\", \"Ecosystem\"]\n",
    "plt.pie(fd_pie_chart, labels = fd_pie_labels, autopct='%1.1f%%')\n",
    "#plt.legend()\n",
    "plt.show()"
   ]
  },
  {
   "cell_type": "markdown",
   "metadata": {},
   "source": [
    "<h1>Token Lock Up Details<h1>"
   ]
  },
  {
   "cell_type": "code",
   "execution_count": null,
   "metadata": {},
   "outputs": [],
   "source": [
    "###LOCK UP DETAILS###\n",
    "#insert lock up details (in months)\n",
    "airdrop_lock = int(input(\"Enter the #months for the airdrop lock up, if none, enter 0\"))\n",
    "team_lock = int(input(\"Enter the #months for the team lock up, if none, enter 0\"))\n",
    "contributors_lock = int(input(\"Enter the #months for the contributors lock up, if none, enter 0\"))\n",
    "investors_lock = int(input(\"Enter the #months for the investors lock up, if none, enter 0\"))\n",
    "ecosystem_lock = int(input(\"Enter the #months for the ecosystem lock up, if none, enter 0\"))"
   ]
  },
  {
   "cell_type": "markdown",
   "metadata": {},
   "source": [
    "<h3>Intermediate Calculation<h3>"
   ]
  },
  {
   "cell_type": "code",
   "execution_count": null,
   "metadata": {},
   "outputs": [],
   "source": [
    "#put the lock up data into a numpy array\n",
    "lock_up = np.array([airdrop_lock, team_lock, contributors_lock, investors_lock, ecosystem_lock])\n",
    "print(lock_up)"
   ]
  },
  {
   "cell_type": "markdown",
   "metadata": {},
   "source": [
    "<h3>Input Vesting Details<h3>"
   ]
  },
  {
   "cell_type": "code",
   "execution_count": null,
   "metadata": {},
   "outputs": [],
   "source": [
    "###VESTING DETAILS###\n",
    "#insert vesting details (in months)\n",
    "airdrop_vest = int(input(\"Enter the #months for the airdrop vest, if none, enter 0\"))\n",
    "team_vest = int(input(\"Enter the #months for the team vest, if none, enter 0\"))\n",
    "contributors_vest = int(input(\"Enter the #months for the contributors vest, if none, enter 0\"))\n",
    "investors_vest = int(input(\"Enter the #months for the investors vest, if none, enter 0\"))\n",
    "ecosystem_vest = int(input(\"Enter the #months for the ecosystem vest, if none, enter 0\"))\n"
   ]
  },
  {
   "cell_type": "markdown",
   "metadata": {},
   "source": [
    "<h3>Intermediate Calculation for putting the vesting data into a Numpy Array<h3>"
   ]
  },
  {
   "cell_type": "code",
   "execution_count": null,
   "metadata": {},
   "outputs": [],
   "source": [
    "#put the vesting up data into a numpy array\n",
    "vest = np.array([airdrop_vest, team_vest, contributors_vest, investors_vest, ecosystem_vest])\n",
    "print(vest)"
   ]
  },
  {
   "cell_type": "markdown",
   "metadata": {},
   "source": [
    "<h3>Vesting Schedule Over Time<h3>"
   ]
  },
  {
   "cell_type": "code",
   "execution_count": null,
   "metadata": {},
   "outputs": [],
   "source": [
    "#use team as an example, then repeat for others \n",
    "#loop through each category to create the vest over time\n",
    "\n",
    "#define a variable to operate on\n",
    "#define an array to then append the tokens onto based on the vested tokens\n",
    "team_tokens = team_day1_unlock_t\n",
    "team_tokens_array = np.array([])\n",
    "\n",
    "#loop through the # of vesting months to append the tokens vested into an array\n",
    "for i in range(team_vest + 1):\n",
    "    team_tokens += team_vt/team_vest\n",
    "    #team_tokens_array = np.append( , [team_tokens])\n",
    "    print(team_tokens_array)"
   ]
  }
 ],
 "metadata": {
  "kernelspec": {
   "display_name": "Python 3",
   "language": "python",
   "name": "python3"
  },
  "language_info": {
   "codemirror_mode": {
    "name": "ipython",
    "version": 3
   },
   "file_extension": ".py",
   "mimetype": "text/x-python",
   "name": "python",
   "nbconvert_exporter": "python",
   "pygments_lexer": "ipython3",
   "version": "3.7.6"
  }
 },
 "nbformat": 4,
 "nbformat_minor": 4
}
